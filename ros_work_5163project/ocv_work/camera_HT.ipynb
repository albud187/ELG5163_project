{
 "cells": [
  {
   "cell_type": "code",
   "execution_count": 20,
   "metadata": {},
   "outputs": [],
   "source": [
    "import numpy as np\n",
    "\n",
    "#input in form [w,x,y,z]\n",
    "def quaternion_rotation_matrix(Q, HT):\n",
    "    \"\"\"\n",
    "    Covert a quaternion into a full three-dimensional rotation matrix.\n",
    " \n",
    "    Input\n",
    "    :param Q: A 4 element array representing the quaternion (q0,q1,q2,q3) \n",
    "    :param HT: true or false. If true returns a homogenous transformation matrix, if false returns rotation matrix\n",
    "    Output\n",
    "    :return: A 3x3 element matrix representing the full 3D rotation matrix. \n",
    "             This rotation matrix converts a point in the local reference \n",
    "             frame to a point in the global reference frame.\n",
    "    \"\"\"\n",
    "    # Extract the values from Q\n",
    "    q0 = Q[0]\n",
    "    q1 = Q[1]\n",
    "    q2 = Q[2]\n",
    "    q3 = Q[3]\n",
    "     \n",
    "    # First row of the rotation matrix\n",
    "    r00 = 2 * (q0 * q0 + q1 * q1) - 1\n",
    "    r01 = 2 * (q1 * q2 - q0 * q3)\n",
    "    r02 = 2 * (q1 * q3 + q0 * q2)\n",
    "     \n",
    "    # Second row of the rotation matrix\n",
    "    r10 = 2 * (q1 * q2 + q0 * q3)\n",
    "    r11 = 2 * (q0 * q0 + q2 * q2) - 1\n",
    "    r12 = 2 * (q2 * q3 - q0 * q1)\n",
    "     \n",
    "    # Third row of the rotation matrix\n",
    "    r20 = 2 * (q1 * q3 - q0 * q2)\n",
    "    r21 = 2 * (q2 * q3 + q0 * q1)\n",
    "    r22 = 2 * (q0 * q0 + q3 * q3) - 1\n",
    "     \n",
    "    # 3x3 rotation matrix\n",
    "    if HT == False:\n",
    "        result = np.array([[r00, r01, r02],\n",
    "                           [r10, r11, r12],\n",
    "                           [r20, r21, r22]])\n",
    "    else:\n",
    "        result = np.array([[r00, r01, r02, 0],\n",
    "                           [r10, r11, r12, 0],\n",
    "                           [r20, r21, r22, 0],\n",
    "                            [0,0,0,1]])       \n",
    "    \n",
    "                            \n",
    "    return result"
   ]
  },
  {
   "cell_type": "code",
   "execution_count": 39,
   "metadata": {},
   "outputs": [],
   "source": [
    "f = 1\n",
    "\n",
    "P_matrix = np.array([[1, 0, 0, 0],\n",
    "                    [0, 1, 0, 0],\n",
    "                    [0, 1, 0, 0],\n",
    "                    [0, 0, 1/5, 0]])\n",
    "\n",
    "#base_link of quadcopter\n",
    "\n",
    "quadcopter_quat = [0,0,-0.5,0.87]\n",
    "input_coord = [1,1,0,1]\n",
    "\n",
    "burgerbot_coord = np.array([[1],[1],[0],[1]])\n",
    "#world frame to quadcopter frame\n",
    "R_w_q = quaternion_rotation_matrix(quadcopter_quat, True)\n",
    "\n",
    "#quadcopter frame to camera frame\n",
    "R_q_cam = np.array([[0, 0, -1, 0],\n",
    "                    [0, 1, 0, 0],\n",
    "                    [-1, 0, 0, 0],\n",
    "                    [0, 0, 0, 1]])\n",
    "\n",
    "HT = R_w_q @ R_q_cam\n",
    "\n",
    "proj_point = P_matrix @ HT @ burgerbot_coord"
   ]
  },
  {
   "cell_type": "code",
   "execution_count": 40,
   "metadata": {},
   "outputs": [
    {
     "data": {
      "text/plain": [
       "array([[ 0.     ],\n",
       "       [ 0.37   ],\n",
       "       [ 0.37   ],\n",
       "       [-0.27676]])"
      ]
     },
     "execution_count": 40,
     "metadata": {},
     "output_type": "execute_result"
    }
   ],
   "source": [
    "#need to factor in translation of quadcopter"
   ]
  },
  {
   "cell_type": "code",
   "execution_count": null,
   "metadata": {},
   "outputs": [],
   "source": []
  }
 ],
 "metadata": {
  "kernelspec": {
   "display_name": "Python 3",
   "language": "python",
   "name": "python3"
  },
  "language_info": {
   "codemirror_mode": {
    "name": "ipython",
    "version": 3
   },
   "file_extension": ".py",
   "mimetype": "text/x-python",
   "name": "python",
   "nbconvert_exporter": "python",
   "pygments_lexer": "ipython3",
   "version": "3.8.3"
  }
 },
 "nbformat": 4,
 "nbformat_minor": 4
}
