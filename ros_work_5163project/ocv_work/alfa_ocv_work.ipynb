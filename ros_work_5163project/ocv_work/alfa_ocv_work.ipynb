{
 "cells": [
  {
   "cell_type": "code",
   "execution_count": 1,
   "metadata": {},
   "outputs": [],
   "source": [
    "import cv2\n",
    "import numpy as np\n",
    "import matplotlib.pyplot as plt\n",
    "%matplotlib inline\n",
    "def display_img(img):\n",
    "    cv2.imshow(\"image\",img)\n",
    "\n",
    "    cv2.waitKey(0)\n",
    "    cv2.destroyAllWindows()"
   ]
  },
  {
   "cell_type": "code",
   "execution_count": null,
   "metadata": {},
   "outputs": [],
   "source": [
    "#image shape is in img[y][x][B,G,R]"
   ]
  },
  {
   "cell_type": "code",
   "execution_count": 55,
   "metadata": {},
   "outputs": [],
   "source": [
    "IMAGE_PATH = \"wafflebotcam_test.JPG\"\n",
    "img = cv2.imread(IMAGE_PATH)\n",
    "#display_img(img)"
   ]
  },
  {
   "cell_type": "code",
   "execution_count": 116,
   "metadata": {},
   "outputs": [],
   "source": [
    "#detect color red\n",
    "#https://stackoverflow.com/questions/30331944/finding-red-color-in-image-using-python-opencv\n",
    "\n",
    "img_hsv=cv2.cvtColor(img, cv2.COLOR_BGR2HSV)\n",
    "\n",
    "# create mask\n",
    "lower_red = np.array([0,50,50])\n",
    "upper_red = np.array([10,255,255])\n",
    "mask0 = cv2.inRange(img_hsv, lower_red, upper_red)\n",
    "lower_red = np.array([170,50,50])\n",
    "upper_red = np.array([180,255,255])\n",
    "mask1 = cv2.inRange(img_hsv, lower_red, upper_red)\n",
    "mask = mask0+mask1\n",
    "                    \n",
    "# set my output img to zero everywhere except my mask\n",
    "output_img = img.copy()\n",
    "output_img[np.where(mask==0)] = 0\n",
    "                    \n",
    "# or your HSV image, which I *believe* is what you want\n",
    "output_hsv = img_hsv.copy()\n",
    "output_hsv[np.where(mask==0)] = 0\n",
    "display_img(mask)\n",
    "\n",
    "\n",
    "red_pixels = np.argwhere(mask>0)"
   ]
  },
  {
   "cell_type": "code",
   "execution_count": 93,
   "metadata": {},
   "outputs": [
    {
     "data": {
      "text/plain": [
       "array([  9,  51, 145], dtype=uint8)"
      ]
     },
     "execution_count": 93,
     "metadata": {},
     "output_type": "execute_result"
    }
   ],
   "source": [
    "output_hsv[np.where(mask!=0)][0]"
   ]
  },
  {
   "cell_type": "code",
   "execution_count": 129,
   "metadata": {},
   "outputs": [],
   "source": [
    "#all x pixels?\n",
    "ypx = red_pixels[:,0]\n",
    "xpx = red_pixels[:,1]"
   ]
  },
  {
   "cell_type": "code",
   "execution_count": 134,
   "metadata": {},
   "outputs": [],
   "source": [
    "x_coord = np.mean(ypx)\n",
    "y_coord = np.mean(xpx)"
   ]
  },
  {
   "cell_type": "code",
   "execution_count": 135,
   "metadata": {},
   "outputs": [],
   "source": [
    "display_img(mask)"
   ]
  },
  {
   "cell_type": "code",
   "execution_count": 128,
   "metadata": {},
   "outputs": [
    {
     "data": {
      "text/plain": [
       "(719, 1702)"
      ]
     },
     "execution_count": 128,
     "metadata": {},
     "output_type": "execute_result"
    }
   ],
   "source": [
    "mask.shape"
   ]
  },
  {
   "cell_type": "code",
   "execution_count": 136,
   "metadata": {},
   "outputs": [],
   "source": []
  },
  {
   "cell_type": "code",
   "execution_count": 137,
   "metadata": {},
   "outputs": [],
   "source": [
    "def find_reds(img):\n",
    "    img_hsv=cv2.cvtColor(img, cv2.COLOR_BGR2HSV)\n",
    "    lower_red = np.array([0,50,50])\n",
    "    upper_red = np.array([10,255,255])\n",
    "    mask0 = cv2.inRange(img_hsv, lower_red, upper_red)\n",
    "    lower_red = np.array([170,50,50])\n",
    "    upper_red = np.array([180,255,255])\n",
    "    mask1 = cv2.inRange(img_hsv, lower_red, upper_red)\n",
    "    mask = mask0+mask1\n",
    "    \n",
    "    red_pixels = np.argwhere(mask>0)\n",
    " \n",
    "    return red_pixels"
   ]
  },
  {
   "cell_type": "code",
   "execution_count": 142,
   "metadata": {},
   "outputs": [],
   "source": [
    "\n",
    "img_hsv=cv2.cvtColor(quadcopt_img, cv2.COLOR_BGR2HSV)\n",
    "lower_black = np.array([0,0,0])\n",
    "upper_black = np.array([30,30,30])\n",
    "mask0 = cv2.inRange(img_hsv, lower_red, upper_red)\n",
    "\n",
    "lower_red = np.array([0,50,50])\n",
    "upper_red = np.array([180,255,255])\n",
    "mask1 = cv2.inRange(img_hsv, lower_red, upper_red)\n",
    "mask = mask0+mask1\n",
    "\n",
    "black_pixels = np.argwhere(mask>0)\n",
    "display_img(mask)"
   ]
  },
  {
   "cell_type": "code",
   "execution_count": 3,
   "metadata": {},
   "outputs": [],
   "source": [
    "IMAGE_PATH = \"quadcopter_cam.JPG\"\n",
    "quadcopt_img = cv2.imread(IMAGE_PATH)\n",
    "display_img(quadcopt_img)"
   ]
  },
  {
   "cell_type": "code",
   "execution_count": 6,
   "metadata": {},
   "outputs": [],
   "source": [
    "\n"
   ]
  },
  {
   "cell_type": "code",
   "execution_count": 26,
   "metadata": {},
   "outputs": [],
   "source": [
    "img=cv2.imread(\"quadcopter_cam.JPG\")\n",
    "img_hsv=cv2.cvtColor(img, cv2.COLOR_BGR2HSV)\n",
    "\n",
    "# lower mask (0-10)\n",
    "lower_red = np.array([0,0,0])\n",
    "upper_red = np.array([30,30,30])\n",
    "mask0 = cv2.inRange(img_hsv, lower_red, upper_red)\n",
    "\n",
    "# upper mask (170-180)\n",
    "lower_red = np.array([30,30,30])\n",
    "upper_red = np.array([70,70,70])\n",
    "mask1 = cv2.inRange(img_hsv, lower_red, upper_red)\n",
    "\n",
    "# join my masks\n",
    "mask = mask0+mask1\n",
    "\n",
    "# set my output img to zero everywhere except my mask\n",
    "output_img = img.copy()\n",
    "output_img[np.where(mask==0)] = 0\n",
    "\n",
    "# or your HSV image, which I *believe* is what you want\n",
    "output_hsv = img_hsv.copy()\n",
    "output_hsv[np.where(mask==0)] = 0\n",
    "display_img(mask)"
   ]
  },
  {
   "cell_type": "code",
   "execution_count": 14,
   "metadata": {},
   "outputs": [],
   "source": [
    "display_img(img)"
   ]
  },
  {
   "cell_type": "code",
   "execution_count": null,
   "metadata": {},
   "outputs": [],
   "source": []
  }
 ],
 "metadata": {
  "kernelspec": {
   "display_name": "Python 3",
   "language": "python",
   "name": "python3"
  },
  "language_info": {
   "codemirror_mode": {
    "name": "ipython",
    "version": 3
   },
   "file_extension": ".py",
   "mimetype": "text/x-python",
   "name": "python",
   "nbconvert_exporter": "python",
   "pygments_lexer": "ipython3",
   "version": "3.8.3"
  }
 },
 "nbformat": 4,
 "nbformat_minor": 4
}
