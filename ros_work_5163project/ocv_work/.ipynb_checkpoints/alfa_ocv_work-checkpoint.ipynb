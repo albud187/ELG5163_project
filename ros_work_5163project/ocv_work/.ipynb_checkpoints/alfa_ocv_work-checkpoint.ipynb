{
 "cells": [
  {
   "cell_type": "code",
   "execution_count": 1,
   "metadata": {},
   "outputs": [],
   "source": [
    "import cv2\n",
    "import numpy as np\n",
    "import matplotlib.pyplot as plt\n",
    "%matplotlib inline\n",
    "def display_img(img):\n",
    "    cv2.imshow(\"image\",img)\n",
    "\n",
    "    cv2.waitKey(0)\n",
    "    cv2.destroyAllWindows()"
   ]
  },
  {
   "cell_type": "code",
   "execution_count": null,
   "metadata": {},
   "outputs": [],
   "source": [
    "#image shape is in img[y][x][B,G,R]"
   ]
  },
  {
   "cell_type": "code",
   "execution_count": 55,
   "metadata": {},
   "outputs": [],
   "source": [
    "IMAGE_PATH = \"wafflebotcam_test.JPG\"\n",
    "img = cv2.imread(IMAGE_PATH)\n",
    "#display_img(img)"
   ]
  },
  {
   "cell_type": "code",
   "execution_count": 116,
   "metadata": {},
   "outputs": [],
   "source": [
    "#detect color red\n",
    "#https://stackoverflow.com/questions/30331944/finding-red-color-in-image-using-python-opencv\n",
    "\n",
    "img_hsv=cv2.cvtColor(img, cv2.COLOR_BGR2HSV)\n",
    "\n",
    "# create mask\n",
    "lower_red = np.array([0,50,50])\n",
    "upper_red = np.array([10,255,255])\n",
    "mask0 = cv2.inRange(img_hsv, lower_red, upper_red)\n",
    "lower_red = np.array([170,50,50])\n",
    "upper_red = np.array([180,255,255])\n",
    "mask1 = cv2.inRange(img_hsv, lower_red, upper_red)\n",
    "mask = mask0+mask1\n",
    "                    \n",
    "# set my output img to zero everywhere except my mask\n",
    "output_img = img.copy()\n",
    "output_img[np.where(mask==0)] = 0\n",
    "                    \n",
    "# or your HSV image, which I *believe* is what you want\n",
    "output_hsv = img_hsv.copy()\n",
    "output_hsv[np.where(mask==0)] = 0\n",
    "display_img(mask)\n",
    "\n",
    "\n",
    "red_pixels = np.argwhere(mask>0)"
   ]
  },
  {
   "cell_type": "code",
   "execution_count": 93,
   "metadata": {},
   "outputs": [
    {
     "data": {
      "text/plain": [
       "array([  9,  51, 145], dtype=uint8)"
      ]
     },
     "execution_count": 93,
     "metadata": {},
     "output_type": "execute_result"
    }
   ],
   "source": [
    "output_hsv[np.where(mask!=0)][0]"
   ]
  },
  {
   "cell_type": "code",
   "execution_count": 129,
   "metadata": {},
   "outputs": [],
   "source": [
    "#all x pixels?\n",
    "ypx = red_pixels[:,0]\n",
    "xpx = red_pixels[:,1]"
   ]
  },
  {
   "cell_type": "code",
   "execution_count": 134,
   "metadata": {},
   "outputs": [],
   "source": [
    "x_coord = np.mean(ypx)\n",
    "y_coord = np.mean(xpx)"
   ]
  },
  {
   "cell_type": "code",
   "execution_count": 135,
   "metadata": {},
   "outputs": [],
   "source": [
    "display_img(mask)"
   ]
  },
  {
   "cell_type": "code",
   "execution_count": 128,
   "metadata": {},
   "outputs": [
    {
     "data": {
      "text/plain": [
       "(719, 1702)"
      ]
     },
     "execution_count": 128,
     "metadata": {},
     "output_type": "execute_result"
    }
   ],
   "source": [
    "mask.shape"
   ]
  },
  {
   "cell_type": "code",
   "execution_count": 136,
   "metadata": {},
   "outputs": [],
   "source": []
  },
  {
   "cell_type": "code",
   "execution_count": 137,
   "metadata": {},
   "outputs": [],
   "source": [
    "def find_reds(img):\n",
    "    img_hsv=cv2.cvtColor(img, cv2.COLOR_BGR2HSV)\n",
    "    lower_red = np.array([0,50,50])\n",
    "    upper_red = np.array([10,255,255])\n",
    "    mask0 = cv2.inRange(img_hsv, lower_red, upper_red)\n",
    "    lower_red = np.array([170,50,50])\n",
    "    upper_red = np.array([180,255,255])\n",
    "    mask1 = cv2.inRange(img_hsv, lower_red, upper_red)\n",
    "    mask = mask0+mask1\n",
    "    \n",
    "    red_pixels = np.argwhere(mask>0)\n",
    " \n",
    "    return red_pixels"
   ]
  },
  {
   "cell_type": "code",
   "execution_count": 17,
   "metadata": {},
   "outputs": [],
   "source": [
    "\n",
    "img_hsv=cv2.cvtColor(quadcopt_img, cv2.COLOR_BGR2HSV)\n",
    "lower_black = np.array([0,0,0])\n",
    "upper_black = np.array([30,30,30])\n",
    "mask0 = cv2.inRange(img_hsv, lower_red, upper_red)\n",
    "\n",
    "lower_red = np.array([0,50,50])\n",
    "upper_red = np.array([180,255,255])\n",
    "mask1 = cv2.inRange(img_hsv, lower_red, upper_red)\n",
    "mask = mask0+mask1\n",
    "\n",
    "display_img(mask)"
   ]
  },
  {
   "cell_type": "code",
   "execution_count": 5,
   "metadata": {},
   "outputs": [],
   "source": [
    "IMAGE_PATH = \"quadcopter_cam.JPG\"\n",
    "quadcopt_img = cv2.imread(IMAGE_PATH)\n",
    "display_img(quadcopt_img)"
   ]
  },
  {
   "cell_type": "code",
   "execution_count": 16,
   "metadata": {},
   "outputs": [
    {
     "data": {
      "text/plain": [
       "array([[ 19,  46],\n",
       "       [ 20,  41],\n",
       "       [ 20,  42],\n",
       "       [ 20,  43],\n",
       "       [ 20,  44],\n",
       "       [ 20,  45],\n",
       "       [ 20,  46],\n",
       "       [ 20,  47],\n",
       "       [ 21,  39],\n",
       "       [ 21,  40],\n",
       "       [ 21,  41],\n",
       "       [ 21,  42],\n",
       "       [ 21,  43],\n",
       "       [ 21,  44],\n",
       "       [ 21,  45],\n",
       "       [ 21,  46],\n",
       "       [ 21,  47],\n",
       "       [ 22,  34],\n",
       "       [ 22,  35],\n",
       "       [ 22,  36],\n",
       "       [ 22,  37],\n",
       "       [ 22,  38],\n",
       "       [ 22,  39],\n",
       "       [ 22,  40],\n",
       "       [ 22,  44],\n",
       "       [ 22,  45],\n",
       "       [ 22,  46],\n",
       "       [ 22,  48],\n",
       "       [ 22,  49],\n",
       "       [ 22,  50],\n",
       "       [ 22,  51],\n",
       "       [ 22,  52],\n",
       "       [ 23,  33],\n",
       "       [ 23,  34],\n",
       "       [ 23,  35],\n",
       "       [ 23,  36],\n",
       "       [ 23,  37],\n",
       "       [ 23,  49],\n",
       "       [ 23,  50],\n",
       "       [ 23,  51],\n",
       "       [ 23,  52],\n",
       "       [ 23,  53],\n",
       "       [ 24,  33],\n",
       "       [ 24,  34],\n",
       "       [ 24,  35],\n",
       "       [ 24,  36],\n",
       "       [ 24,  37],\n",
       "       [ 24,  50],\n",
       "       [ 24,  51],\n",
       "       [ 24,  52],\n",
       "       [ 24,  53],\n",
       "       [ 25,  33],\n",
       "       [ 25,  34],\n",
       "       [ 25,  35],\n",
       "       [ 25,  36],\n",
       "       [ 25,  50],\n",
       "       [ 25,  51],\n",
       "       [ 25,  52],\n",
       "       [ 25,  53],\n",
       "       [ 26,  34],\n",
       "       [ 26,  35],\n",
       "       [ 26,  51],\n",
       "       [ 26,  52],\n",
       "       [ 26,  53],\n",
       "       [ 27,  34],\n",
       "       [ 27,  35],\n",
       "       [ 27,  51],\n",
       "       [ 27,  52],\n",
       "       [ 27,  53],\n",
       "       [ 28,  34],\n",
       "       [ 28,  35],\n",
       "       [ 28,  36],\n",
       "       [ 28,  51],\n",
       "       [ 28,  52],\n",
       "       [ 28,  53],\n",
       "       [ 29,  34],\n",
       "       [ 29,  35],\n",
       "       [ 29,  36],\n",
       "       [ 29,  51],\n",
       "       [ 29,  52],\n",
       "       [ 29,  53],\n",
       "       [ 30,  34],\n",
       "       [ 30,  35],\n",
       "       [ 30,  36],\n",
       "       [ 30,  51],\n",
       "       [ 30,  52],\n",
       "       [ 30,  53],\n",
       "       [ 31,  33],\n",
       "       [ 31,  34],\n",
       "       [ 31,  35],\n",
       "       [ 31,  36],\n",
       "       [ 31,  51],\n",
       "       [ 31,  52],\n",
       "       [ 31,  53],\n",
       "       [ 32,  33],\n",
       "       [ 32,  34],\n",
       "       [ 32,  35],\n",
       "       [ 32,  36],\n",
       "       [ 32,  37],\n",
       "       [ 32,  49],\n",
       "       [ 32,  50],\n",
       "       [ 32,  51],\n",
       "       [ 32,  52],\n",
       "       [ 32,  53],\n",
       "       [ 33,  33],\n",
       "       [ 33,  34],\n",
       "       [ 33,  35],\n",
       "       [ 33,  36],\n",
       "       [ 33,  37],\n",
       "       [ 33,  38],\n",
       "       [ 33,  39],\n",
       "       [ 33,  48],\n",
       "       [ 33,  49],\n",
       "       [ 33,  50],\n",
       "       [ 33,  51],\n",
       "       [ 34,  38],\n",
       "       [ 34,  39],\n",
       "       [ 34,  40],\n",
       "       [ 34,  41],\n",
       "       [ 34,  42],\n",
       "       [ 34,  43],\n",
       "       [ 34,  44],\n",
       "       [ 34,  45],\n",
       "       [ 34,  46],\n",
       "       [ 34,  47],\n",
       "       [ 34,  48],\n",
       "       [ 34,  49],\n",
       "       [ 34,  50],\n",
       "       [ 35,  39],\n",
       "       [ 35,  40],\n",
       "       [ 35,  41],\n",
       "       [ 35,  42],\n",
       "       [ 35,  43],\n",
       "       [ 35,  44],\n",
       "       [ 35,  45],\n",
       "       [ 35,  46],\n",
       "       [ 35,  47],\n",
       "       [ 35,  48],\n",
       "       [124, 311],\n",
       "       [124, 312],\n",
       "       [124, 313],\n",
       "       [125, 308],\n",
       "       [125, 309],\n",
       "       [125, 310],\n",
       "       [125, 311],\n",
       "       [125, 312],\n",
       "       [125, 313],\n",
       "       [125, 314],\n",
       "       [125, 315],\n",
       "       [125, 316],\n",
       "       [126, 307],\n",
       "       [126, 308],\n",
       "       [126, 309],\n",
       "       [126, 310],\n",
       "       [126, 311],\n",
       "       [126, 312],\n",
       "       [126, 313],\n",
       "       [126, 314],\n",
       "       [126, 315],\n",
       "       [126, 316],\n",
       "       [126, 317],\n",
       "       [127, 307],\n",
       "       [127, 308],\n",
       "       [127, 309],\n",
       "       [127, 310],\n",
       "       [127, 311],\n",
       "       [127, 312],\n",
       "       [127, 313],\n",
       "       [127, 314],\n",
       "       [127, 315],\n",
       "       [127, 316],\n",
       "       [127, 317],\n",
       "       [128, 307],\n",
       "       [128, 308],\n",
       "       [128, 309],\n",
       "       [128, 310],\n",
       "       [128, 311],\n",
       "       [128, 312],\n",
       "       [128, 313],\n",
       "       [128, 314],\n",
       "       [128, 315],\n",
       "       [128, 316],\n",
       "       [128, 317],\n",
       "       [128, 318],\n",
       "       [129, 307],\n",
       "       [129, 308],\n",
       "       [129, 309],\n",
       "       [129, 310],\n",
       "       [129, 311],\n",
       "       [129, 312],\n",
       "       [129, 313],\n",
       "       [129, 314],\n",
       "       [129, 315],\n",
       "       [129, 316],\n",
       "       [129, 317],\n",
       "       [129, 318],\n",
       "       [130, 307],\n",
       "       [130, 308],\n",
       "       [130, 309],\n",
       "       [130, 310],\n",
       "       [130, 311],\n",
       "       [130, 312],\n",
       "       [130, 313],\n",
       "       [130, 314],\n",
       "       [130, 315],\n",
       "       [130, 316],\n",
       "       [130, 317],\n",
       "       [131, 307],\n",
       "       [131, 308],\n",
       "       [131, 309],\n",
       "       [131, 310],\n",
       "       [131, 311],\n",
       "       [131, 312],\n",
       "       [131, 313],\n",
       "       [131, 314],\n",
       "       [131, 315],\n",
       "       [131, 316],\n",
       "       [131, 317],\n",
       "       [132, 308],\n",
       "       [132, 309],\n",
       "       [132, 310],\n",
       "       [132, 311],\n",
       "       [132, 312],\n",
       "       [132, 313],\n",
       "       [132, 314],\n",
       "       [132, 315],\n",
       "       [132, 316],\n",
       "       [133, 308],\n",
       "       [133, 309],\n",
       "       [133, 310],\n",
       "       [133, 311],\n",
       "       [133, 312],\n",
       "       [133, 313],\n",
       "       [133, 314],\n",
       "       [133, 315],\n",
       "       [134, 312],\n",
       "       [134, 313],\n",
       "       [134, 314],\n",
       "       [140, 314],\n",
       "       [141, 314]], dtype=int64)"
      ]
     },
     "execution_count": 16,
     "metadata": {},
     "output_type": "execute_result"
    }
   ],
   "source": [
    "\n"
   ]
  },
  {
   "cell_type": "code",
   "execution_count": 25,
   "metadata": {},
   "outputs": [],
   "source": [
    "img=cv2.imread(\"quadcopter_cam.JPG\")\n",
    "img_hsv=cv2.cvtColor(img, cv2.COLOR_BGR2HSV)\n",
    "\n",
    "# lower mask (0-30)\n",
    "lower_black1 = np.array([0,0,0])\n",
    "upper_black1 = np.array([30,30,30])\n",
    "mask0 = cv2.inRange(img_hsv, lower_black1 , upper_black1)\n",
    "\n",
    "# upper mask (170-180)\n",
    "lower_black2 = np.array([30,30,30])\n",
    "upper_black2 = np.array([50,50,50])\n",
    "mask1 = cv2.inRange(img_hsv, lower_black2, upper_black2)\n",
    "\n",
    "# join my masks\n",
    "mask = mask0+mask1\n",
    "\n",
    "# set my output img to zero everywhere except my mask\n",
    "output_img = img.copy()\n",
    "output_img[np.where(mask==0)] = 0\n",
    "\n",
    "# or your HSV image, which I *believe* is what you want\n",
    "output_hsv = img_hsv.copy()\n",
    "output_hsv[np.where(mask==0)] = 0\n",
    "display_img(mask)\n",
    "black_pixels = np.argwhere(mask>0)"
   ]
  },
  {
   "cell_type": "code",
   "execution_count": 49,
   "metadata": {},
   "outputs": [],
   "source": [
    "def find_black_center(img):\n",
    "    img_hsv=cv2.cvtColor(img, cv2.COLOR_BGR2HSV)\n",
    "\n",
    "    # lower mask (0-30)\n",
    "    lower_black1 = np.array([0,0,0])\n",
    "    upper_black1 = np.array([30,30,30])\n",
    "    mask0 = cv2.inRange(img_hsv, lower_black1 , upper_black1)\n",
    "\n",
    "    # upper mask (170-180)\n",
    "    lower_black2 = np.array([30,30,30])\n",
    "    upper_black2 = np.array([50,50,50])\n",
    "    mask1 = cv2.inRange(img_hsv, lower_black2, upper_black2)\n",
    "\n",
    "    # join my masks\n",
    "    mask = mask0+mask1\n",
    "    \n",
    "    black_pixels = np.argwhere(mask>0)\n",
    "    \n",
    "    ypx = np.mean(black_pixels[:,0])\n",
    "    xpx = np.mean(black_pixels[:,1])\n",
    "    result = (ypx, xpx)\n",
    "    return result\n",
    "\n",
    "def find_redpx(img):\n",
    "    ypx, xpx = find_black_center(img)\n",
    "    \n",
    "    img_hsv=cv2.cvtColor(img, cv2.COLOR_BGR2HSV)\n",
    "    lower_red = np.array([0,50,50])\n",
    "    upper_red = np.array([10,255,255])\n",
    "    mask0 = cv2.inRange(img_hsv, lower_red, upper_red)\n",
    "    lower_red = np.array([170,50,50])\n",
    "    upper_red = np.array([180,255,255])\n",
    "    mask1 = cv2.inRange(img_hsv, lower_red, upper_red)\n",
    "    mask = mask0+mask1\n",
    "    red_pixels = np.argwhere(mask>0)\n",
    "    \n",
    "    return red_pixels\n",
    "\n",
    "def find_closest_red(img):\n",
    "    #find center of black pixels\n",
    "    ypx, xpx = find_black_center(img)\n",
    "    \n",
    "    #find all red pixels\n",
    "    img_hsv=cv2.cvtColor(img, cv2.COLOR_BGR2HSV)\n",
    "    lower_red = np.array([0,50,50])\n",
    "    upper_red = np.array([10,255,255])\n",
    "    mask0 = cv2.inRange(img_hsv, lower_red, upper_red)\n",
    "    lower_red = np.array([170,50,50])\n",
    "    upper_red = np.array([180,255,255])\n",
    "    mask1 = cv2.inRange(img_hsv, lower_red, upper_red)\n",
    "    mask = mask0+mask1\n",
    "    red_px = np.argwhere(mask>0)\n",
    "    \n",
    "    #find red pixel closest to black center\n",
    "    x_disp = red_px[:,0]-ypx\n",
    "    y_disp = red_px[:,1]-xpx\n",
    "    all_disp = np.sqrt(x_disp**2 + y_disp**2)\n",
    "    index_min = np.argmin(all_disp)\n",
    "    closest_red = red_px[index_min]\n",
    "    closest_red_coord = (closest_red[0], closest_red[1])\n",
    "    return "
   ]
  },
  {
   "cell_type": "code",
   "execution_count": 41,
   "metadata": {},
   "outputs": [],
   "source": [
    "img=cv2.imread(\"quadcopter_cam.JPG\")\n",
    "\n",
    "ypx, xpx = find_black_center(img)\n",
    "red_px = find_redpx(img)"
   ]
  },
  {
   "cell_type": "code",
   "execution_count": 51,
   "metadata": {},
   "outputs": [],
   "source": []
  },
  {
   "cell_type": "code",
   "execution_count": 55,
   "metadata": {},
   "outputs": [],
   "source": []
  },
  {
   "cell_type": "code",
   "execution_count": 59,
   "metadata": {},
   "outputs": [],
   "source": []
  },
  {
   "cell_type": "code",
   "execution_count": 60,
   "metadata": {},
   "outputs": [
    {
     "data": {
      "text/plain": [
       "66"
      ]
     },
     "execution_count": 60,
     "metadata": {},
     "output_type": "execute_result"
    }
   ],
   "source": [
    "index_min"
   ]
  },
  {
   "cell_type": "code",
   "execution_count": 61,
   "metadata": {},
   "outputs": [
    {
     "data": {
      "text/plain": [
       "140.42791745233566"
      ]
     },
     "execution_count": 61,
     "metadata": {},
     "output_type": "execute_result"
    }
   ],
   "source": [
    "all_disp[66]"
   ]
  },
  {
   "cell_type": "code",
   "execution_count": 62,
   "metadata": {},
   "outputs": [
    {
     "data": {
      "text/plain": [
       "array([131, 307], dtype=int64)"
      ]
     },
     "execution_count": 62,
     "metadata": {},
     "output_type": "execute_result"
    }
   ],
   "source": []
  },
  {
   "cell_type": "code",
   "execution_count": 64,
   "metadata": {},
   "outputs": [
    {
     "name": "stdout",
     "output_type": "stream",
     "text": [
      "173.0\n",
      "173.0\n"
     ]
    }
   ],
   "source": [
    "print(ypx)\n",
    "print(xpx)"
   ]
  },
  {
   "cell_type": "code",
   "execution_count": 63,
   "metadata": {},
   "outputs": [
    {
     "data": {
      "text/plain": [
       "array([[125, 308],\n",
       "       [125, 309],\n",
       "       [125, 310],\n",
       "       [125, 311],\n",
       "       [125, 312],\n",
       "       [125, 313],\n",
       "       [125, 314],\n",
       "       [125, 315],\n",
       "       [125, 316],\n",
       "       [126, 307],\n",
       "       [126, 308],\n",
       "       [126, 309],\n",
       "       [126, 310],\n",
       "       [126, 311],\n",
       "       [126, 312],\n",
       "       [126, 313],\n",
       "       [126, 314],\n",
       "       [126, 315],\n",
       "       [126, 316],\n",
       "       [126, 317],\n",
       "       [127, 307],\n",
       "       [127, 308],\n",
       "       [127, 309],\n",
       "       [127, 310],\n",
       "       [127, 311],\n",
       "       [127, 312],\n",
       "       [127, 313],\n",
       "       [127, 314],\n",
       "       [127, 315],\n",
       "       [127, 316],\n",
       "       [127, 317],\n",
       "       [128, 307],\n",
       "       [128, 308],\n",
       "       [128, 309],\n",
       "       [128, 310],\n",
       "       [128, 311],\n",
       "       [128, 312],\n",
       "       [128, 313],\n",
       "       [128, 314],\n",
       "       [128, 315],\n",
       "       [128, 316],\n",
       "       [128, 317],\n",
       "       [128, 318],\n",
       "       [129, 307],\n",
       "       [129, 308],\n",
       "       [129, 309],\n",
       "       [129, 310],\n",
       "       [129, 311],\n",
       "       [129, 312],\n",
       "       [129, 313],\n",
       "       [129, 314],\n",
       "       [129, 315],\n",
       "       [129, 316],\n",
       "       [129, 317],\n",
       "       [129, 318],\n",
       "       [130, 307],\n",
       "       [130, 308],\n",
       "       [130, 309],\n",
       "       [130, 310],\n",
       "       [130, 311],\n",
       "       [130, 312],\n",
       "       [130, 313],\n",
       "       [130, 314],\n",
       "       [130, 315],\n",
       "       [130, 316],\n",
       "       [130, 317],\n",
       "       [131, 307],\n",
       "       [131, 308],\n",
       "       [131, 309],\n",
       "       [131, 310],\n",
       "       [131, 311],\n",
       "       [131, 312],\n",
       "       [131, 313],\n",
       "       [131, 314],\n",
       "       [131, 315],\n",
       "       [131, 316],\n",
       "       [131, 317],\n",
       "       [132, 308],\n",
       "       [132, 309],\n",
       "       [132, 310],\n",
       "       [132, 311],\n",
       "       [132, 312],\n",
       "       [132, 313],\n",
       "       [132, 314],\n",
       "       [132, 315],\n",
       "       [132, 316],\n",
       "       [133, 308],\n",
       "       [133, 309],\n",
       "       [133, 310],\n",
       "       [133, 311],\n",
       "       [133, 312],\n",
       "       [133, 313],\n",
       "       [133, 314],\n",
       "       [133, 315],\n",
       "       [134, 312],\n",
       "       [134, 313],\n",
       "       [134, 314]], dtype=int64)"
      ]
     },
     "execution_count": 63,
     "metadata": {},
     "output_type": "execute_result"
    }
   ],
   "source": [
    "red_px"
   ]
  },
  {
   "cell_type": "code",
   "execution_count": null,
   "metadata": {},
   "outputs": [],
   "source": []
  }
 ],
 "metadata": {
  "kernelspec": {
   "display_name": "Python 3",
   "language": "python",
   "name": "python3"
  },
  "language_info": {
   "codemirror_mode": {
    "name": "ipython",
    "version": 3
   },
   "file_extension": ".py",
   "mimetype": "text/x-python",
   "name": "python",
   "nbconvert_exporter": "python",
   "pygments_lexer": "ipython3",
   "version": "3.8.3"
  }
 },
 "nbformat": 4,
 "nbformat_minor": 4
}
